{
 "cells": [
  {
   "cell_type": "code",
   "execution_count": 1,
   "metadata": {},
   "outputs": [],
   "source": [
    "import os\n",
    "import glob"
   ]
  },
  {
   "cell_type": "markdown",
   "metadata": {},
   "source": [
    "# Créer un fichier contenant la liste des images tests disponibles"
   ]
  },
  {
   "cell_type": "code",
   "execution_count": 2,
   "metadata": {},
   "outputs": [],
   "source": [
    "test_img_folder = glob.glob('../../data/data2/data2/leftImg8bit/test/*png') # tf.io.glob.glob\n",
    "test_label_folder = glob.glob('../../data/data2/data2/gtFine/test/*png') # tf.io.glob.glob\n",
    "\n",
    "test_img_names = [path.split('/test/')[1].split('_img')[0] for path in test_img_folder]\n",
    "test_label = ['./data/data2/data2/gtFine/test/' + name + '_mask.png' for name in test_img_names]\n",
    "\n",
    "test_img_folder.sort()\n",
    "test_label_folder.sort()"
   ]
  },
  {
   "cell_type": "code",
   "execution_count": 3,
   "metadata": {},
   "outputs": [
    {
     "data": {
      "text/plain": [
       "['lindau_000008_000019',\n",
       " 'lindau_000015_000019',\n",
       " 'lindau_000000_000019',\n",
       " 'lindau_000007_000019',\n",
       " 'lindau_000012_000019',\n",
       " 'lindau_000013_000019',\n",
       " 'lindau_000006_000019',\n",
       " 'lindau_000001_000019',\n",
       " 'lindau_000014_000019',\n",
       " 'lindau_000009_000019',\n",
       " 'lindau_000003_000019',\n",
       " 'lindau_000016_000019',\n",
       " 'lindau_000011_000019',\n",
       " 'lindau_000004_000019',\n",
       " 'lindau_000019_000019',\n",
       " 'lindau_000018_000019',\n",
       " 'lindau_000005_000019',\n",
       " 'lindau_000010_000019',\n",
       " 'lindau_000017_000019',\n",
       " 'lindau_000002_000019',\n",
       " 'lindau_000023_000019',\n",
       " 'lindau_000036_000019',\n",
       " 'lindau_000047_000019',\n",
       " 'lindau_000052_000019',\n",
       " 'lindau_000048_000019',\n",
       " 'lindau_000039_000019',\n",
       " 'lindau_000031_000019',\n",
       " 'lindau_000024_000019',\n",
       " 'lindau_000055_000019',\n",
       " 'lindau_000040_000019',\n",
       " 'lindau_000025_000019',\n",
       " 'lindau_000030_000019',\n",
       " 'lindau_000041_000019',\n",
       " 'lindau_000054_000019',\n",
       " 'lindau_000049_000019',\n",
       " 'lindau_000038_000019',\n",
       " 'lindau_000037_000019',\n",
       " 'lindau_000022_000019',\n",
       " 'lindau_000053_000019',\n",
       " 'lindau_000046_000019',\n",
       " 'lindau_000051_000019',\n",
       " 'lindau_000044_000019',\n",
       " 'lindau_000035_000019',\n",
       " 'lindau_000020_000019',\n",
       " 'lindau_000028_000019',\n",
       " 'lindau_000043_000019',\n",
       " 'lindau_000056_000019',\n",
       " 'lindau_000027_000019',\n",
       " 'lindau_000032_000019',\n",
       " 'lindau_000057_000019',\n",
       " 'lindau_000042_000019',\n",
       " 'lindau_000033_000019',\n",
       " 'lindau_000026_000019',\n",
       " 'lindau_000029_000019',\n",
       " 'lindau_000058_000019',\n",
       " 'lindau_000045_000019',\n",
       " 'lindau_000050_000019',\n",
       " 'lindau_000021_000019',\n",
       " 'lindau_000034_000019']"
      ]
     },
     "execution_count": 3,
     "metadata": {},
     "output_type": "execute_result"
    }
   ],
   "source": [
    "test_img_names"
   ]
  },
  {
   "cell_type": "code",
   "execution_count": 6,
   "metadata": {},
   "outputs": [],
   "source": [
    "# on enregistre les données de test dans un .npy \n",
    "np.save('val_files_test.npy', test_img_names)"
   ]
  },
  {
   "cell_type": "code",
   "execution_count": null,
   "metadata": {},
   "outputs": [],
   "source": []
  }
 ],
 "metadata": {
  "kernelspec": {
   "display_name": "Python 3",
   "language": "python",
   "name": "python3"
  },
  "language_info": {
   "codemirror_mode": {
    "name": "ipython",
    "version": 3
   },
   "file_extension": ".py",
   "mimetype": "text/x-python",
   "name": "python",
   "nbconvert_exporter": "python",
   "pygments_lexer": "ipython3",
   "version": "3.7.6"
  }
 },
 "nbformat": 4,
 "nbformat_minor": 4
}
